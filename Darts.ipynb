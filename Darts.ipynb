{
 "cells": [
  {
   "cell_type": "markdown",
   "id": "6ac1972a",
   "metadata": {},
   "source": [
    "## Darts"
   ]
  },
  {
   "cell_type": "markdown",
   "id": "543405ca",
   "metadata": {},
   "source": [
    "Some brainteasers related to dart games"
   ]
  },
  {
   "cell_type": "code",
   "execution_count": null,
   "id": "27cb6adc",
   "metadata": {
    "vscode": {
     "languageId": "plaintext"
    }
   },
   "outputs": [],
   "source": [
    "import numpy as np\n",
    "import matplotlib.pyplot as plt"
   ]
  }
 ],
 "metadata": {
  "language_info": {
   "name": "python"
  }
 },
 "nbformat": 4,
 "nbformat_minor": 5
}
