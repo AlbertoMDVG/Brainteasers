{
 "cells": [
  {
   "cell_type": "code",
   "execution_count": 1,
   "id": "597f57e7",
   "metadata": {},
   "outputs": [],
   "source": [
    "import random"
   ]
  },
  {
   "cell_type": "code",
   "execution_count": 11,
   "id": "5b28982c",
   "metadata": {},
   "outputs": [],
   "source": [
    "class glass():\n",
    "    def __init__(self):\n",
    "        self.status = 1  # 1 for bottom-down, 0 for bottom-up\n",
    "    \n",
    "    def turn_glass(self):\n",
    "        self.status = (self.status + 1) // 2  # Flip glass (bottom down -> bottom up or vice versa)\n",
    "\n",
    "class wise():\n",
    "    def __init__(self):\n",
    "        self.n_times_called = 0\n",
    "        self.called_status = False  # Track if the player has been called\n",
    "    \n",
    "    def called(self, glass: glass):\n",
    "        self.n_times_called += 1\n",
    "        self.called_status = True  # Mark that this player has been called\n",
    "        # If it's the first time called and the glass is bottom down (status = 1), flip it bottom up (status = 0)\n",
    "        if self.n_times_called == 1 and glass.status == 1:\n",
    "            glass.turn_glass()  # Flip the glass to bottom up (status = 0)\n",
    "\n",
    "class wise_spokesman(wise):\n",
    "    def __init__(self):\n",
    "        super().__init__()\n",
    "        self.number_time_turned = 0\n",
    "\n",
    "    def called(self, glass: glass):\n",
    "        self.n_times_called += 1\n",
    "        self.called_status = True  # Mark that this player has been called\n",
    "        # Always put the glass bottom down if it finds it bottom up\n",
    "        if glass.status == 0:  # If glass is bottom up\n",
    "            glass.turn_glass()  # Flip the glass back to bottom down (status = 1)\n",
    "            self.number_time_turned += 1  # Count how many times the glass is turned\n",
    "\n",
    "class game():\n",
    "    def __init__(self):\n",
    "        self.glass = glass()\n",
    "        # Create 49 \"wise\" players and 1 \"wise_spokesman\"\n",
    "        self.players = [wise() for _ in range(49)] + [wise_spokesman()]\n",
    "        self.game_status = \"on\"\n",
    "\n",
    "    def play(self):\n",
    "        while self.game_status != \"over\":\n",
    "            player_index = random.choice(range(50))  # Choose a random player\n",
    "            self.players[player_index].called(self.glass)  # Call the player's method, passing the glass to modify its state\n",
    "            \n",
    "            # Check if all players have been called (i.e., all have called_status == True)\n",
    "            if all(player.called_status for player in self.players):\n",
    "                self.game_status = \"over\"  # If all players have been called, game ends\n",
    "            \n",
    "        # Check if all players have been called\n",
    "        if all(player.called_status for player in self.players):\n",
    "            print(\"Victory\")  # All players called, game is a victory\n",
    "        else:\n",
    "            print(\"Lost\")  # If not all players have called, it's a loss\n",
    "\n"
   ]
  },
  {
   "cell_type": "code",
   "execution_count": 14,
   "id": "9b2bb17a",
   "metadata": {},
   "outputs": [
    {
     "name": "stdout",
     "output_type": "stream",
     "text": [
      "Victory\n"
     ]
    }
   ],
   "source": [
    "a = game()\n",
    "a.play()"
   ]
  },
  {
   "cell_type": "code",
   "execution_count": 23,
   "id": "58efc234",
   "metadata": {},
   "outputs": [
    {
     "name": "stdout",
     "output_type": "stream",
     "text": [
      "4 2 6 3 4 3 6 7 8 3 3 6 9 7 7 5 3 3 8 1 4 5 3 4 4 1 5 4 5 4 7 2 7 3 4 3 1 1 1 6 2 9 1 5 5 9 7 3 2 2 "
     ]
    }
   ],
   "source": [
    "for i in range(50):\n",
    "    print(a.players[i].n_times_called, end=\" \")"
   ]
  }
 ],
 "metadata": {
  "kernelspec": {
   "display_name": "base",
   "language": "python",
   "name": "python3"
  },
  "language_info": {
   "codemirror_mode": {
    "name": "ipython",
    "version": 3
   },
   "file_extension": ".py",
   "mimetype": "text/x-python",
   "name": "python",
   "nbconvert_exporter": "python",
   "pygments_lexer": "ipython3",
   "version": "3.11.5"
  }
 },
 "nbformat": 4,
 "nbformat_minor": 5
}
